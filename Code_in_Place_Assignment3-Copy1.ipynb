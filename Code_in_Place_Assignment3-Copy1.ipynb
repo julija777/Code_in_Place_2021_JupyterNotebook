{
 "cells": [
  {
   "cell_type": "markdown",
   "metadata": {},
   "source": [
    "- Syntax needed for Assignment3\n",
    "- Tutorial\n",
    "- Q1-Q5 Assignment questions complited"
   ]
  },
  {
   "cell_type": "code",
   "execution_count": null,
   "metadata": {},
   "outputs": [],
   "source": [
    "#Import simpleimage library\n",
    "from simpleimage import SimpleImage\n",
    "\n",
    "#Read image from a filename\n",
    "image = SimpleImage (filename)\n",
    "\n",
    "\n"
   ]
  },
  {
   "cell_type": "code",
   "execution_count": null,
   "metadata": {},
   "outputs": [],
   "source": [
    "#Loop over pixels in an image\n",
    "\n",
    "for pixel in image:\n",
    "    # Use pixel in here\n"
   ]
  },
  {
   "cell_type": "code",
   "execution_count": null,
   "metadata": {},
   "outputs": [],
   "source": [
    "#Access data inside an element\n",
    "Color properties: pixel.red, pixel.green, pixel.blue \n",
    "Location properties: pixel.x, pixel.y\n",
    "    "
   ]
  },
  {
   "cell_type": "code",
   "execution_count": null,
   "metadata": {},
   "outputs": [],
   "source": [
    "#Displaying the image\n",
    "image.show()"
   ]
  },
  {
   "cell_type": "code",
   "execution_count": null,
   "metadata": {},
   "outputs": [],
   "source": [
    "#Accessing Image Size\n",
    "image.width, image.height"
   ]
  },
  {
   "cell_type": "code",
   "execution_count": null,
   "metadata": {},
   "outputs": [],
   "source": [
    "#Create a blank image with specified dimensions\n",
    "image = SimpleImage.blank(width, height)"
   ]
  },
  {
   "cell_type": "code",
   "execution_count": null,
   "metadata": {},
   "outputs": [],
   "source": [
    "#Accessing pixel from coordinates\n",
    "pixel = image.get_pixel(x, y)\n"
   ]
  },
  {
   "cell_type": "code",
   "execution_count": null,
   "metadata": {},
   "outputs": [],
   "source": [
    "#Set a pixel with coordinates\n",
    "image.set_pixel(x, y, pixel)"
   ]
  },
  {
   "cell_type": "code",
   "execution_count": null,
   "metadata": {},
   "outputs": [],
   "source": [
    "#Resize an image to be the same size as another image\n",
    "image.make_as_big_as(target_image)"
   ]
  },
  {
   "cell_type": "code",
   "execution_count": null,
   "metadata": {},
   "outputs": [],
   "source": [
    "#Nested Loop over pixels in an image\n",
    "for x in range(image.width):\n",
    "    for y in range(image.height):\n",
    "        pixel = image.get_pixel(x, y)\n",
    "        # Use pixel in here"
   ]
  },
  {
   "cell_type": "markdown",
   "metadata": {},
   "source": [
    "What is an image?"
   ]
  },
  {
   "cell_type": "markdown",
   "metadata": {},
   "source": [
    "An image is made of square pixels.\n",
    "\n",
    "Each pixel has single color encoded as 3 RGB values, \n",
    "where R = red, G = green, and B = blue. \n",
    "Each value represents brightness for that color (red, green, or blue). \n",
    "You can set RGB values to make any color!"
   ]
  },
  {
   "cell_type": "markdown",
   "metadata": {},
   "source": [
    "SimpleImage Library\n",
    "In folders for assignment or lecture on images, there is a file simpleimage.py . This is the SimpleImage library, and you will use this library to work with images.\n",
    "\n",
    "To use the SimpleImage library in your code, include at the top of your program file:\n",
    "\n",
    "from simpleimage import SimpleImage\n",
    "This is importing the SimpleImage module, so that it is accessible in the code you write. This is similar to when you used import random to use the random number generator library\n",
    "\n",
    "Each SimpleImage object is made up of Pixel objects\n",
    "\n",
    "Functions in SimpleImage Library\n",
    "You can create a SimpleImage object by reading an image from file (jpg, png, gif, etc.) and storing it in a variable\n",
    "\n",
    "my_image = SimpleImage(filename)\n",
    "To show the image on your computer:\n",
    "\n",
    "my_image.show()\n",
    "Accessing Pixels in an Image\n",
    "We can use a new kind of loop called a \"for-each\" loop. Here's what it looks like:\n",
    "\n",
    "for item in collection: \n",
    "         #do something with them\n",
    "\n",
    "Here's how to use a for-each loop with an image:\n",
    "\n",
    "image = SimpleImage(\"flower.jpg\")\n",
    "for pixel in image:\n",
    "        # The code here gets repeated once for each pixel in image \n",
    "Properties of Images and Pixels\n",
    "Each SimpleImage image has properties you can access. For example, this is how you can access the width and height of an image:\n",
    "\n",
    "image.width, image.height\n",
    "Each pixel in an image also has properties:\n",
    "\n",
    "You can get the x and y coordinates of a pixel in an image:\n",
    "\n",
    "pixel.x, pixel.y\n",
    "You can also get the RGB values of a pixel, which are integers between 0 and 255. Higher R, G, B values means that there is more of that color present in the pixel.\n",
    "\n",
    "pixel,red, pixel.green, pixel.blue\n"
   ]
  },
  {
   "cell_type": "code",
   "execution_count": null,
   "metadata": {},
   "outputs": [],
   "source": [
    "\"\"\"Now, let's look at some examples.\n",
    "This function, darker, returns a darker version of an image.\"\"\"\n",
    "\n",
    "def darker(filename): \n",
    "   \"\"\"\n",
    "   Reads image from file specified by filename. \n",
    "   Makes image darker by halving red, green, blue values\n",
    "   Returns the darker version of image.\n",
    "   \"\"\"\n",
    "\n",
    "   img = SimpleImage(filename)\n",
    "   for px in image: \n",
    "      px.red = px.red // 2\n",
    "      px.green = px.green // 2\n",
    "      px.blue = px.blue // 2\n",
    "   return img\n"
   ]
  },
  {
   "cell_type": "code",
   "execution_count": null,
   "metadata": {},
   "outputs": [],
   "source": [
    "#This function, red_channel, returns a red-shaded version of an image.\n",
    "\n",
    "def red_channel(filename): \n",
    "   \"\"\"\n",
    "   Reads image from file specified by filename. \n",
    "   Changes the image as follows:\n",
    "   For every pixel, set green and blue values to 0, \n",
    "   yielding the red channel. \n",
    "   Return the changed image.\n",
    "   \"\"\"\n",
    "\n",
    "   img = SimpleImage(filename)\n",
    "   for px in image: \n",
    "      px.red = pix.red // 2\n",
    "      px.green = 0\n",
    "      px.blue = 0\n",
    "   return img"
   ]
  },
  {
   "cell_type": "code",
   "execution_count": null,
   "metadata": {},
   "outputs": [],
   "source": [
    "#Let's take these functions for a spin!\n",
    "\n",
    "def main(): \n",
    "   \"\"\"\n",
    "   Run your desired image manipulation functions here. \n",
    "   You should store the return value (image) and then \n",
    "   call .show() to visualize the output of your program.\n",
    "   \"\"\"\n",
    "   \n",
    "   # The name of the image file is called flower.png and it is in the \n",
    "   # images folder, so to access the file we do: 'images/flower.png'\n",
    "   \n",
    "   original_flower = SimpleImage('images/flower.png') \n",
    "   original_flower.show() # displays the original image \n",
    "\n",
    "   dark_flower = darker('images/flower.png')\n",
    "   dark_flower.show()\n",
    "\n",
    "   red_flower = red_channel('images/flower.png')\n",
    "   red_flower.show()"
   ]
  },
  {
   "cell_type": "code",
   "execution_count": null,
   "metadata": {},
   "outputs": [],
   "source": [
    "#Nested For vs For Each Pixel\n",
    "#What's the difference?\n",
    "\n",
    "#For-each loop\n",
    "def darker(filename): \n",
    "   img = SimpleImage(filename)\n",
    "   for px in image: \n",
    "      px.red = pix.red // 2\n",
    "      px.green = pix.green // 2\n",
    "      px.blue = pix.blue // 2\n",
    "   return img\n",
    "\n",
    "#Nested For-loop\n",
    "def darker(filename): \n",
    "   img = SimpleImage(filename)\n",
    "   for y in range(img.height): \n",
    "      for x in range(img.width):  \n",
    "         px.red = pix.red // 2\n",
    "         px.green = pix.green // 2\n",
    "         px.blue = pix.blue // 2\n",
    "   return img\n",
    "\n",
    "#Nothing! Both functions above do the exact same thing: \n",
    "#make an image darker. \n",
    "#We only want to use nested for loops if we care about x and y ."
   ]
  },
  {
   "cell_type": "markdown",
   "metadata": {},
   "source": [
    "Mirroring an Image\n",
    "For this program, we are given an image, and we want to return an image that includes the original image and its mirror reflection.\n",
    "How can we write a program that gives us the mirror image? We will need access to the x and y values of the pixels in the original image. In our output image, we want to set the corresponding x and y coordinates of the original image and the mirror image to be the same color.\n",
    "\n",
    "We can use a nested for-loop to do this!"
   ]
  },
  {
   "cell_type": "code",
   "execution_count": null,
   "metadata": {},
   "outputs": [],
   "source": [
    "#Here's how:\n",
    "\n",
    "def mirror_image(filename): \n",
    "   \"\"\"\n",
    "   Reads image from file specified by filename. \n",
    "   Returns a new image that includes the original image \n",
    "   and its mirror reflection.   \n",
    "   \"\"\"\n",
    "   \n",
    "   image = SimpleImage(filename)\n",
    "   width = image.width\n",
    "   height = image.height \n",
    "\n",
    "   # Create new image to contain mirror reflection\n",
    "   mirror = SimpleImage.blank(width * 2, height)\n",
    "\n",
    "  for y in range(height): \n",
    "     for x in range(width): \n",
    "        pixel = image.get_pixel(x,y)\n",
    "        mirror.set_pixel(x, y, pixel)\n",
    "        mirror.set_pixel((width * 2) - (x+1), y, pixel)\n",
    "\n",
    "  return mirror"
   ]
  },
  {
   "cell_type": "markdown",
   "metadata": {},
   "source": [
    "Add Border\n",
    "\n",
    "Need an extra challenge? How would you add a black border to an image?\n",
    "\n",
    "Define a function \n",
    "\n",
    "def add_border(original_img, border_size):\n",
    "    \"\"\"\n",
    "    This function returns a new SimpleImage which is the same as\n",
    "    original image except with a black border added around it. The\n",
    "    border should be border_size many pixels thick.\n",
    "\n",
    "    Inputs:\n",
    "        - original_img: The original image to process\n",
    "        - border_size: The thickness of the border to add around the image\n",
    "\n",
    "    Returns:\n",
    "        A new SimpleImage with the border added around original image\n",
    "    \"\"\"\n",
    "\n",
    "\n",
    "This function should take an image and add a border of size border_size to each side (top, left, bottom, right) of the image. So for example if we added a border of size border_size = 10 pixels to the simba-sq.jpg image we would get this:\n",
    "\n",
    "\n",
    "Here is the original for reference:\n",
    "\n",
    "\n",
    "Notice that the bordered image is 20 pixels wider and 20 pixels higher."
   ]
  },
  {
   "cell_type": "code",
   "execution_count": null,
   "metadata": {},
   "outputs": [],
   "source": [
    "from simpleimage import SimpleImage\n",
    "\n",
    "TRIM_AMOUNT = 30\n",
    "\n",
    "def main():\n",
    "    image = SimpleImage('images/karel.png')\n",
    "    trimmed_image = trim_crop_image(image, TRIM_AMOUNT)\n",
    "    trimmed_image.show()\n",
    "\n",
    "\n",
    "def trim_crop_image(original_image, trim_size):\n",
    "    \"\"\"\n",
    "    This function returns a new SimpleImage which is a trimmed and\n",
    "    cropped version of the original image by shaving trim_size pixels\n",
    "    from each side (top, left, bottom, right) of the image. You may\n",
    "    assume trim_size is less than half the width of the image.\n",
    "\n",
    "    Inputs:\n",
    "        - original_img: The original image to process\n",
    "        - trim_size: The number of pixels to shave from each side\n",
    "                   of the original image\n",
    "\n",
    "    Returns:\n",
    "        A new SimpleImage with trim_size pixels shaved off each\n",
    "        side of the original image\n",
    "    \"\"\"\n",
    "    new_width = original_image.width - (trim_size * 2)\n",
    "    new_height = original_image.height - (trim_size * 2)\n",
    "    trimmed_image = SimpleImage.blank(new_width, new_height)\n",
    "    for y in range(new_height): \n",
    "        for x in range(new_width): \n",
    "            pixel = original_image.get_pixel((x + trim_size),(y + trim_size))\n",
    "            trimmed_image.set_pixel(x, y, pixel)\n",
    "    return trimmed_image\n",
    "\n",
    "    \n",
    "if __name__ == '__main__':\n",
    "    main()"
   ]
  },
  {
   "cell_type": "markdown",
   "metadata": {},
   "source": [
    "Q1: Code in Place Filter\n",
    "\n",
    "Write a program that asks the user to enter an image file, \n",
    "loads that file and applies the “Code in Place” filter.\n",
    "\n",
    "To apply the Code in Place filter, you are going to change every pixel to have the following new red, green and blue values, based off the pixels old red, green and blue values:\n",
    "\n",
    "new red value = old red value * 1.5\n",
    "new green value = old green value * 0.7\n",
    "new blue value = old blue value * 1.5\n",
    "Problem written by Chris Piech. \n",
    "Inspired by image library and examples from Nick Parlante.\n",
    "\n"
   ]
  },
  {
   "cell_type": "code",
   "execution_count": null,
   "metadata": {},
   "outputs": [],
   "source": [
    "\"\"\"\n",
    "This program implements a red image filter for images/quad.jpg from\n",
    "/home/codeinplace_filter.py\n",
    "\"\"\"\n",
    "\n",
    "import random\n",
    "from simpleimage import SimpleImage\n",
    "\n",
    "DEFAULT_FILE = 'images/quad.jpg'\n",
    "\n",
    "def main():\n",
    "    # Get file and load image\n",
    "    filename = get_file()\n",
    "    image = SimpleImage(filename)\n",
    "\n",
    "    # Show the image before the transform\n",
    "    image.show()\n",
    "\n",
    "    # Apply the filter\n",
    "    for pixel in image:\n",
    "        pixel.red = pixel.red * 1.5\n",
    "        pixel.green = pixel.green * 0.7\n",
    "        pixel.blue = pixel.blue * 1.5\n",
    "\n",
    "    # Show the image after the transform\n",
    "    image.show()\n",
    "\n",
    "\n",
    "def get_file():\n",
    "    # Read image file path from user, or use the default file\n",
    "    filename = input('Enter image file (or press enter for default): ')\n",
    "    if filename == '':\n",
    "        filename = DEFAULT_FILE\n",
    "    return filename\n",
    "\n",
    "\n",
    "if __name__ == '__main__':\n",
    "    main()"
   ]
  },
  {
   "cell_type": "markdown",
   "metadata": {},
   "source": [
    "Q2: Finding Forest Flames\n",
    "\n",
    "We’re going to start by writing a function called find_flames (in the file forest_fire.py) that highlights the areas where a forest fire is active. You’re given a satellite image of Greenland’s 2017 fires (photo credit: Stef Lhermitte, Delft University of Technology).\n",
    "\n",
    "Your job is to detect all of the “sufficiently red” pixels in the image, which are indicative of where fires are burning in the image. As we did in class with the “redscreening” example, we consider a pixel “sufficiently red” if its red value is greater than or equal to the average of the pixel’s three RGB values times a constant INTENSITY_THRESHOLD. \n",
    "\n",
    "Recall the average of a pixel, which has red, green and blue values is:\n",
    "\n",
    "average = (red + green + blue) / 3\n",
    "When you detect a “sufficiently red” pixel in the original image, you set its red value to 255 and its green and blue values to 0. This will highlight the pixel by making it entirely red. For all other pixels (i.e., those that are not “sufficiently red”), you should convert them to their grayscale equivalent, so that we can more easily see where the fire is originating from. You can grayscale a pixel by summing together its red, green, and blue values and dividing by three (finding the average), and then setting the pixel’s red, green, and blue values to all have this same “average” value.\n",
    "\n",
    "Two side by side photos of smoke plumes from above. The first photo is a normal image, taken from a satellite, and the right image is the same as the previous except it is black and white and the forest fires are highlighted in red.\n",
    "Original forest fire image on left, and highlighted version of image on right.\n",
    "\n",
    "Once you highlight the areas that are on fire in the image (and greyscale all the remaining pixels), you should see an image like that shown on the right in the figure. On the left side of the example image, we should the original image for comparison. \n",
    "\n",
    "Note: to make this algorithm work on different images of fire, select an appropriate INTENSITY_THRESHOLD value.\n",
    "\n",
    "Problem written by Sonja Johnson-Yu.\n",
    "https://static.us.edusercontent.com/files/9dQ4WljnbDcW3n6DFXUg22QG![image.png](attachment:image.png)\n"
   ]
  },
  {
   "cell_type": "code",
   "execution_count": null,
   "metadata": {},
   "outputs": [],
   "source": [
    "from simpleimage import SimpleImage\n",
    "\n",
    "INTENSITY_THRESHOLD = 1.0\n",
    "DEFAULT_FILE = 'images/greenland-fire.png'\n",
    "\n",
    "def find_flames(filename):\n",
    "    image = SimpleImage(filename)\n",
    "    for pixel in image:\n",
    "        average_pixel = (pixel.red + pixel.green + pixel.blue) // 3\n",
    "    if pixel.red >= average_pixel * INTENSITY_THRESHOLD:\n",
    "        pixel.red = 255\n",
    "        pixel.blue = 0 \n",
    "        pixel.green = 0\n",
    "    else:\n",
    "        make_greyscale(pixel)\n",
    "\n",
    "def make_greyscale(pixel):\n",
    "    grey_average= (pixel.red + pixel.green + pixel.blue)// 3\n",
    "    pixel.red = grey_average\n",
    "    pixel.green = grey_average\n",
    "    pixel.blue = grey_average\n",
    "\n",
    "def main():\n",
    "    # Get file name from user input\n",
    "    filename = get_file()\n",
    "\n",
    "    # Show the original fire\n",
    "    original_fire = SimpleImage(filename)\n",
    "    original_fire.show()\n",
    "\n",
    "    # Show the highlighted fire\n",
    "    highlighted_fire = find_flames(filename)\n",
    "    highlighted_fire.show()\n",
    "\n",
    "def get_file():\n",
    "    # Read image file path from user, or use the default file\n",
    "    filename = input('Enter image file (or press enter for default): ')\n",
    "    if filename == '':\n",
    "        filename = DEFAULT_FILE\n",
    "    return filename\n",
    "    if __name__ == '__main__':\n",
    "        main()"
   ]
  },
  {
   "cell_type": "code",
   "execution_count": 1,
   "metadata": {},
   "outputs": [
    {
     "ename": "ModuleNotFoundError",
     "evalue": "No module named 'simpleimage'",
     "output_type": "error",
     "traceback": [
      "\u001b[0;31m---------------------------------------------------------------------------\u001b[0m",
      "\u001b[0;31mModuleNotFoundError\u001b[0m                       Traceback (most recent call last)",
      "\u001b[0;32m<ipython-input-1-cff188391c87>\u001b[0m in \u001b[0;36m<module>\u001b[0;34m\u001b[0m\n\u001b[0;32m----> 1\u001b[0;31m \u001b[0;32mfrom\u001b[0m \u001b[0msimpleimage\u001b[0m \u001b[0;32mimport\u001b[0m \u001b[0mSimpleImage\u001b[0m\u001b[0;34m\u001b[0m\u001b[0;34m\u001b[0m\u001b[0m\n\u001b[0m\u001b[1;32m      2\u001b[0m \u001b[0;34m\u001b[0m\u001b[0m\n\u001b[1;32m      3\u001b[0m \u001b[0mDEFAULT_FILE\u001b[0m \u001b[0;34m=\u001b[0m \u001b[0;34m'images/mt-rainier.jpg'\u001b[0m\u001b[0;34m\u001b[0m\u001b[0;34m\u001b[0m\u001b[0m\n\u001b[1;32m      4\u001b[0m \u001b[0;34m\u001b[0m\u001b[0m\n\u001b[1;32m      5\u001b[0m \u001b[0;32mdef\u001b[0m \u001b[0mmake_reflected\u001b[0m\u001b[0;34m(\u001b[0m\u001b[0mfilename\u001b[0m\u001b[0;34m)\u001b[0m\u001b[0;34m:\u001b[0m\u001b[0;34m\u001b[0m\u001b[0;34m\u001b[0m\u001b[0m\n",
      "\u001b[0;31mModuleNotFoundError\u001b[0m: No module named 'simpleimage'"
     ]
    }
   ],
   "source": [
    "from simpleimage import SimpleImage\n",
    "\n",
    "DEFAULT_FILE = 'images/mt-rainier.jpg'\n",
    "\n",
    "def make_reflected(filename):\n",
    "    image = SimpleImage(filename)\n",
    "    # TODO: your code here.\n",
    "    return image\n",
    "\n",
    "def main():\n",
    "    # Get file name from user input\n",
    "    filename = get_file()\n",
    "\n",
    "    # Show the original image\n",
    "    original = SimpleImage(filename)\n",
    "    original.show()\n",
    "\n",
    "    # Show the reflected image\n",
    "    reflected = make_reflected(filename)\n",
    "    reflected.show()\n",
    "\n",
    "def get_file():\n",
    "    # Read image file path from user, or use the default file\n",
    "    filename = input('Enter image file (or press enter for default): ')\n",
    "    if filename == '':\n",
    "        filename = DEFAULT_FILE\n",
    "    return filename\n",
    "\n",
    "if __name__ == '__main__':\n",
    "    main()"
   ]
  },
  {
   "cell_type": "markdown",
   "metadata": {},
   "source": [
    "Q3 (optional; medium): Reflection\n",
    "\n",
    "Write a function that returns an output image that is twice the height of the original. The top half of the output image should be identical to the original image. The bottom half, however, should look like a reflection of the top half. The highest row in the top half should be “reflected” to be the lowest row in the bottom half. This results in a cool effect.\n",
    "\n",
    "Two images. Left image depicts a snowy mountain with a forest in the foreground. Right image is twice as tall; the top half is the same as the left image and the bottom half is the left image reflected across a horizontal axis so that the photo looks like the mountain range is reflected across a lake.\n",
    "Problem written by multiple instructors. We are seeking out the photographer who took this picture."
   ]
  },
  {
   "cell_type": "code",
   "execution_count": null,
   "metadata": {},
   "outputs": [],
   "source": []
  },
  {
   "cell_type": "code",
   "execution_count": null,
   "metadata": {},
   "outputs": [],
   "source": []
  },
  {
   "cell_type": "code",
   "execution_count": null,
   "metadata": {},
   "outputs": [],
   "source": []
  },
  {
   "cell_type": "code",
   "execution_count": null,
   "metadata": {},
   "outputs": [],
   "source": []
  },
  {
   "cell_type": "code",
   "execution_count": null,
   "metadata": {},
   "outputs": [],
   "source": []
  },
  {
   "cell_type": "code",
   "execution_count": null,
   "metadata": {},
   "outputs": [],
   "source": []
  },
  {
   "cell_type": "code",
   "execution_count": null,
   "metadata": {},
   "outputs": [],
   "source": []
  },
  {
   "cell_type": "code",
   "execution_count": null,
   "metadata": {},
   "outputs": [],
   "source": []
  },
  {
   "cell_type": "code",
   "execution_count": null,
   "metadata": {},
   "outputs": [],
   "source": []
  },
  {
   "cell_type": "code",
   "execution_count": null,
   "metadata": {},
   "outputs": [],
   "source": []
  },
  {
   "cell_type": "code",
   "execution_count": null,
   "metadata": {},
   "outputs": [],
   "source": []
  },
  {
   "cell_type": "code",
   "execution_count": null,
   "metadata": {},
   "outputs": [],
   "source": []
  }
 ],
 "metadata": {
  "kernelspec": {
   "display_name": "Python 3",
   "language": "python",
   "name": "python3"
  },
  "language_info": {
   "codemirror_mode": {
    "name": "ipython",
    "version": 3
   },
   "file_extension": ".py",
   "mimetype": "text/x-python",
   "name": "python",
   "nbconvert_exporter": "python",
   "pygments_lexer": "ipython3",
   "version": "3.8.5"
  }
 },
 "nbformat": 4,
 "nbformat_minor": 4
}
